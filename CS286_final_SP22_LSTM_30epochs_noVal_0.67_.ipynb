{
  "cells": [
    {
      "cell_type": "markdown",
      "metadata": {
        "id": "8tay9mAzlaH3"
      },
      "source": [
        "\n",
        "##CS286 Final exam\n",
        "##Spring 2022\n",
        "###Due: university-scheduled exam date of May 20 2022, 17:00pm (submission site stays open until 23:59pm)\n",
        "\n",
        "You may work together with your project team, and submit one solution for all team members; you can also do the final on your own if you prefer. If you work in a team, all team members will get the same grade. Everyone on your team should contribute to the solution and understand the solution (not one person doing all the work). Oral examination may be requested."
      ]
    },
    {
      "cell_type": "markdown",
      "metadata": {
        "id": "9CFxjRtSSPTF"
      },
      "source": [
        "You are given 14,004 protein sequences to classify, linked on the Canvas final page. \n",
        "We are going to use an open-access public dataset of protein sequences , originating from [DeepLoc](http://www.cbs.dtu.dk/services/DeepLoc-1.0/data.php). The dataset is a fasta file composed of headers and protein sequences. The header is composed of the accession number from Uniprot, the annotated subcellular localization and possibly a description field indicating if the protein was part of the test set. The subcellular localization includes an additional label, where S indicates soluble, M membrane and U unknown (you can ignore this label for our purposes). A sample of the data is as follows:\n",
        "\n",
        "```\n",
        "\n",
        "$ head deeploc_data.fasta \n",
        ">Q9H400 Cell.membrane-M test\n",
        "MGLPVSWAPPALWVLGCCALLLSLWALCTACRRPEDAVAPRKRARRQRARLQGSATAAEASLLRRTHLCSLSKSDTRLHELHRGPRSSRALRPASMDLLRPHWLEVSRDITGPQAAPSAFPHQELPRALPAAAATAGCAGLEATYSNVGLAALPGVSLAASPVVAEYARVQKRKGTHRSPQEPQQGKTEVTPAAQVDVLYSRVCKPKRRDPGPTTDPLDPKGQGAILALAGDLAYQTLPLRALDVDSGPLENVYESIRELGDPAGRSSTCGAGTPPASSCPSLGRGWRPLPASLP\n",
        ">Q5I0E9 Cell.membrane-M\n",
        "MEVLEEPAPGPGGADAAERRGLRRLLLSGFQEELRALLVLAGPAFLAQLMMFLISFISSVFCGHLGKLELDAVTLAIAVINVTGISVGHGLSSACDTLISQTYGSQNLKHVGVILQRGTLILLLCCFPCWALFINTEQILLLFRQDPDVSRLTQTYVMVFIPALPAAFLYTLQVKYLLNQGIVLPQVITGIAANLVNALANYLFLHQLHLGVMGSALANTISQFALAIFLFLYILWRKLHHATWGGWSWECLQDWASFLQLAIPSMLMLCIEWWAYEVGSFLSGILGMVELGAQSITYELAIIVYMIPAGFSVAANVRVGNALGAGNIDQAKKSSAISLIVTELFAVTFCVLLLGCKDLVGYIFTTDWDIVALVAQVVPIYAVSHLFEALACTCGGVLRGTGNQKVGAIVNAIGYYVIGLPIGISLMFVAKLGVIGLWSGIIICSVCQTSCFLVFIARLNWKLACQQAQVHANLKVNVALNSAVSQEPAHPVGPESHGEIMMTDLEKKDEIQLDQQMNQQQALPVHPKDSNKLSGKQLALRRGLLFLGVVLVLVGGILVRVYIRTE\n",
        "\n",
        "\n",
        "\n",
        "$ tail deeploc_data.fasta \n",
        ">V5NC32 Extracellular-S\n",
        "MFPRVVRLNSRLVSFALLGLQIANGAITYQHPDDLPSNVNYDFIVAGGGTAGLVVASRLSENSDWNILVIEAGPSNKDTPETRVPGLADSLPGSRTDWNYTTIPQDALGGRSLNYSRAKVLGGCSTHNGMVYTRGSEDDWNYWAEVTGDQALSWDSVLPIMKKAEKFSQDFSDQSVDGHIDPAVHGRDGLLSVVASYTNVSFNDLLLQTTKELSDEFPFKLDLNDGKPHELAWTQYTIDHNAERSSSATSYLETTGDNVHVLVNTHVTRIVSAGNGTNFRSVEFAVDSNSPKKVLQAKKELILSAGVIASPQVLMNSGIGGREELQAIGVDTLIDNPSVGKNLSDQAATLLMFDTTLPNTDYDVAAALTEWDKSRSGPMAHGARLNHLTWVRLPDDKLNGSDPSSGKDSPHIEFQFRQISHQLPPADVPNQVQLPDPDSIGVVLQFSVVNLYSISPGSVILNDNDPFANPMIDLNMFGDQKDIAILREGVRSARRMFSSPAFKDVINGTVYPPADVTSDEDLDAFLRTSAESYWHGVGTLSMSPQNASWGVVNPDFRVKGTSGLRVVDASVIPRAPAGHTQVPVYTFAEHASVLIAASYH\n",
        ">P86368 Extracellular-S\n",
        "SLLEFGMMILEETGKLAVPFYSSYGCYCGWGGKATPKDATDRCCFVHDCCYGNLPDCNPKSDRYKYKRVNGAIVCEQGTSCENRICECDKAAAICFRRNLNTYSKIYMLYPDFLCKGELKC\n",
        ">P80156 Extracellular-S\n",
        "TKCYKTGDRIISEACPPGQDLCYMKTWCDVFCGTRGRVIELGCTATCPTVKPHEQITCCSTDNCNPHPKMKQ\n",
        ">Q8NIH1 Extracellular-S\n",
        "MHGLLLAAAGLLSLPLHVVAHPQPSTSLAGRGVDLDAYRMADRSSYMSSDDMKLKQPAIASLSGGNYVDTATEVVKRMMPGMTFRMADDHYVGESGISHLYFRQTMHGMDIDNADFNVNIGKDGKVLSFGHSFYTGPAPDRAPVEKRDFSGPMRAFHGACKALNLPINADKATIQTMNEHEVMFVGTSGAMSDPQGKLCYMAKEDGTLALTWRVETDMGDNWLLSYVDAKETDKVHNVVDYVSHATYQVYRWPIPDPTEGKREIVENPWNLKTSPFTWISDGKTNYTTTRGNNAIAQANFDGGEDYLNNYRPNSKNLKFEYPYAPNMSPPKSYIDASVTQLFYSANIVHDLYYMLGFTEKAGNFQVNNHGQGGKGNDFVILNAQDGSGTNNANFATPPDGKPGRMRVYIWTKAKPARDSSFEAGTVIHEYTHGLSNRLCGGPANSGCLNGMESGGMGEGWGDFFATAIRLKPNDNRNANYVHGEWVNNSPKGNRLYPYSTNLQTNPLVYTSCNKYNEVHAIGTVWCSILYEVLWNLIDKHGKNDGPTPVFENGVPNDGKYLAMKLVLDGMAIQPCKPTFVQARDAIIDADMNLTKGSNKCELWKAFAKRGLGVGAKYDPKNRTGSKAVPKECQ\n",
        ">D4APA9 Extracellular-S\n",
        "MGFITKAIPLALAAASVINGAEIMETRAGVQTLADKYIVVMNDGMTDKDFDSHRSWVNRTHRRRLIRRGAKAMGGMKHTYRFPTGLKGYSGHFDEQMINEISKRADVKYIERDARVQINAIEQQDNVPSWGLARVGSKEPGGTTYYYDGTAGEGSTAYVIDTGTDIQHEEFEGRATWGANFVDDMDMDCNGHGTHVSGTIGGKTFGVAKKSNVVAVKVLDCNGSGSNSGVIMGMEWATKDAQQKGADKAVANMSLGGAFSQASNDAAAAIAKGGVFLAVAAGNDNVDAADSSPASEPSICTVAASTEQDSKADFSNFGQVVDVYAPGDSITSAKPGGGSQVLSGTSMATPHVAGLGAYLIGLGKGGGPGLCDTIKQTAIDVIQNPGASTTSKLINNGSGIGFLSFPLNIYEEQWSKLFDL\n",
        "\n",
        "\n",
        "\n",
        "$ egrep \"^>\" deeploc_data.fasta | wc\n",
        "   14004   30781  319857\n",
        "\n",
        "\n",
        "###These are the 11 subcellular localication annotations:\n",
        "\n",
        "$ egrep \"^>\" deeploc_data.fasta | sed \"s/^>.* //g\" | sed \"s/-.$//g\" | sort | uniq\n",
        "Cell.membrane\n",
        "Cytoplasm\n",
        "Cytoplasm-Nucleus\n",
        "Endoplasmic.reticulum\n",
        "Extracellular\n",
        "Golgi.apparatus\n",
        "Lysosome/Vacuole\n",
        "Mitochondrion\n",
        "Nucleus\n",
        "Peroxisome\n",
        "Plastid\n",
        "\n",
        "```\n",
        "\n",
        "\n",
        "\n",
        "\n",
        "\n",
        "\n",
        "\n",
        "##Task\n",
        "\n",
        "Your task is to train machine learning that clasifies these proteins into those 11 subcellular localization groups (as we did in the worksheets, except for amino acid sequences this time). You can use amino acids or k-mers of amino acids as words (choose k yourself). Train **any three ML methods amongst those mentioned below** (any 3 that you prefer, they can also be from the same bulletpoint) so you can compare them:\n",
        "\n",
        "- Any ML methods we saw in the class (SGD, neural nets, etc). Train the model to clasify the proteins into the 11 groups. Evaluate the classification result with Accuracy/Precision/Recall, as we have seen in the class and worksheets. See [sklearn.metrics](https://scikit-learn.org/stable/modules/model_evaluation.html#classification-metrics). \n",
        "\n",
        "- A simple clustering, such as k-means (unsupervised clustering, the same method used in vector quantization) to cluster into 11 groups. Evaluate result by assigning the majority class to each cluster, then counting how many members of each cluster belong to classes other than the assigned one.\n",
        "\n",
        "- Use the ProtBERT that is given [here](https://github.com/aws-samples/amazon-sagemaker-protein-classification). Evaluate result with Accuracy/Precision/Recall, as we have seen in the class and worksheets. This is sample code for BERT that does the assigned task, though you may google as well to find code.\n",
        "\n",
        "- You may also use ML methods we didn't cover in detail in class, such as SVMs or decision trees or random forests, or others. \n",
        "\n",
        "##Answer this question\n",
        "\n",
        "Which of the 2 methods you compared gave a better result for separating proteins into the 11 subcellular localization classes? Explain in your answer why one method gave better results than another. If the metrics (Accuracy/Precision/Recall) are inconclusive as to which method performed better overall - for example if one method has better precision but another has better recall - explain this in your answer."
      ]
    },
    {
      "cell_type": "markdown",
      "metadata": {
        "id": "eggvHEsleWQ3"
      },
      "source": [
        "## Below is some code I provide that you may find helpful"
      ]
    },
    {
      "cell_type": "code",
      "execution_count": null,
      "metadata": {
        "colab": {
          "base_uri": "https://localhost:8080/"
        },
        "id": "qU75geKDIZgv",
        "outputId": "f6b7a62f-e6e2-4662-ff08-3484a6c2a816"
      },
      "outputs": [
        {
          "output_type": "stream",
          "name": "stdout",
          "text": [
            "3: 298 20 [array([[1., 0., 0., ..., 0., 0., 0.],\n",
            "       [1., 0., 0., ..., 0., 0., 0.],\n",
            "       [1., 0., 0., ..., 0., 0., 0.],\n",
            "       ...,\n",
            "       [0., 0., 0., ..., 0., 0., 0.],\n",
            "       [0., 0., 0., ..., 0., 0., 0.],\n",
            "       [0., 0., 0., ..., 0., 0., 0.]])]\n"
          ]
        }
      ],
      "source": [
        "#This code is adapted from WS8 - Primer of Deep Learning in Genomics\n",
        "import numpy as np\n",
        "import pandas as pd\n",
        "\n",
        "from sklearn.preprocessing import LabelEncoder, OneHotEncoder\n",
        "from collections import Counter\n",
        "# The LabelEncoder encodes a sequence of nucleotids bases or amino acids (letters) as a sequence of integers.\n",
        "integer_encoder = LabelEncoder()  \n",
        "# The OneHotEncoder converts an array of integers to a sparse matrix where \n",
        "# each row corresponds to one possible value of each feature.\n",
        "one_hot_encoder = OneHotEncoder(categories='auto')   \n",
        "input_features = []\n",
        "\n",
        "sequences = [\"AAAMGLPVSWAPPALWVLGCCALLLSLWALCTACRRPEDAVAPRKRARRQRARLQGSATAAEASLLRRTHLCSLSKSDTRLHELHRGPRSSRALRPASMDLLRPHWLEVSRDITGPQAAPSAFPHQELPRALPAAAATAGCAGLEATYSNVGLAALPGVSLAASPVVAEYARVQKRKGTHRSPQEPQQGKTEVTPAAQVDVLYSRVCKPKRRDPGPTTDPLDPKGQGAILALAGDLAYQTLPLRALDVDSGPLENVYESIRELGDPAGRSSTCGAGTPPASSCPSLGRGWRPLPASLP\"]\n",
        "# print(Counter(sequences[0]))\n",
        "for sequence in sequences:\n",
        "  integer_encoded = integer_encoder.fit_transform(list(sequence))\n",
        "  # print('1:',integer_encoded)\n",
        "  integer_encoded = np.array(integer_encoded).reshape(-1, 1)\n",
        "  # print('11:',integer_encoded)\n",
        "  one_hot_encoded = one_hot_encoder.fit_transform(integer_encoded)\n",
        "  # print('2:',one_hot_encoded)\n",
        "  input_features.append(one_hot_encoded.toarray())\n",
        "  print('3:',len(input_features[0]), len(input_features[0][0]), input_features)\n",
        "\n",
        "# print(str(input_features[0]))"
      ]
    },
    {
      "cell_type": "code",
      "execution_count": null,
      "metadata": {
        "colab": {
          "base_uri": "https://localhost:8080/",
          "height": 73,
          "resources": {
            "http://localhost:8080/nbextensions/google.colab/files.js": {
              "data": "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",
              "headers": [
                [
                  "content-type",
                  "application/javascript"
                ]
              ],
              "ok": true,
              "status": 200,
              "status_text": ""
            }
          }
        },
        "id": "7pIaVFLnQ9eP",
        "outputId": "acde1819-5629-4626-87d0-5bcd02e6a7a7"
      },
      "outputs": [
        {
          "output_type": "display_data",
          "data": {
            "text/plain": [
              "<IPython.core.display.HTML object>"
            ],
            "text/html": [
              "\n",
              "     <input type=\"file\" id=\"files-b39b513e-6acd-4e15-acde-90df9c560d9a\" name=\"files[]\" multiple disabled\n",
              "        style=\"border:none\" />\n",
              "     <output id=\"result-b39b513e-6acd-4e15-acde-90df9c560d9a\">\n",
              "      Upload widget is only available when the cell has been executed in the\n",
              "      current browser session. Please rerun this cell to enable.\n",
              "      </output>\n",
              "      <script src=\"/nbextensions/google.colab/files.js\"></script> "
            ]
          },
          "metadata": {}
        },
        {
          "output_type": "stream",
          "name": "stdout",
          "text": [
            "Saving deeploc_data.fasta to deeploc_data.fasta\n"
          ]
        }
      ],
      "source": [
        "#Upload the deeploc_data.fasta file. Will take a few minutes.\n",
        "\n",
        "from google.colab import files\n",
        "uploaded = files.upload()\n"
      ]
    },
    {
      "cell_type": "code",
      "execution_count": null,
      "metadata": {
        "id": "r7IG_b4UYuUq"
      },
      "outputs": [],
      "source": [
        "#This code is adapted from WS9 - RBP_binding_site_prediction in order to read in fasta or faa files. \n",
        "#This reads in the entire file and saves the labels in the sequence headers as classes.\n",
        "#You may want to split the training from the test sequences in the data file, then read in a separate training and test dataset.\n",
        "\n",
        "def read_seq_graphprot(seq_file):\n",
        "    seq_list = []\n",
        "    labels = []\n",
        "    names = []\n",
        "    seq = ''\n",
        "    for line2 in seq_file:\n",
        "            line = line2.decode().strip()\n",
        "            if line[0] == '>':\n",
        "                name = line[1:]\n",
        "                names.append(name)\n",
        "                label = name.split(\" \")[1][:-2]\n",
        "                labels.append(label)\n",
        "            else:\n",
        "                seq = line[:-1].upper()\n",
        "                #seq = seq.replace('T', 'U')\n",
        "                seq_list.append(seq)\n",
        "                \n",
        "    return seq_list, labels, names\n",
        "\n",
        "\n",
        "def read_data_file(file = None, train = True):\n",
        "    data = dict()\n",
        "    seqs, labels, names = read_seq_graphprot(file)\n",
        "        \n",
        "    data[\"seq\"] = seqs\n",
        "    data[\"class_labels\"] = np.array(labels)\n",
        "    data[\"names\"] = np.array(names)\n",
        "\n",
        "    \n",
        "    return data\n",
        "\n"
      ]
    },
    {
      "cell_type": "code",
      "execution_count": null,
      "metadata": {
        "id": "BhX8oYDOW5X4"
      },
      "outputs": [],
      "source": [
        "#Preprocess the data\n",
        "import io\n",
        "data = read_data_file(io.BytesIO(uploaded['deeploc_data.fasta']))"
      ]
    },
    {
      "cell_type": "code",
      "execution_count": null,
      "metadata": {
        "colab": {
          "base_uri": "https://localhost:8080/"
        },
        "id": "LP7UDGFhXKnF",
        "outputId": "61ca8cfd-3bdf-4158-ac82-82753a5a3e4d"
      },
      "outputs": [
        {
          "output_type": "stream",
          "name": "stdout",
          "text": [
            "14004\n"
          ]
        },
        {
          "output_type": "execute_result",
          "data": {
            "text/plain": [
              "['MGLPVSWAPPALWVLGCCALLLSLWALCTACRRPEDAVAPRKRARRQRARLQGSATAAEASLLRRTHLCSLSKSDTRLHELHRGPRSSRALRPASMDLLRPHWLEVSRDITGPQAAPSAFPHQELPRALPAAAATAGCAGLEATYSNVGLAALPGVSLAASPVVAEYARVQKRKGTHRSPQEPQQGKTEVTPAAQVDVLYSRVCKPKRRDPGPTTDPLDPKGQGAILALAGDLAYQTLPLRALDVDSGPLENVYESIRELGDPAGRSSTCGAGTPPASSCPSLGRGWRPLPASL',\n",
              " 'MEVLEEPAPGPGGADAAERRGLRRLLLSGFQEELRALLVLAGPAFLAQLMMFLISFISSVFCGHLGKLELDAVTLAIAVINVTGISVGHGLSSACDTLISQTYGSQNLKHVGVILQRGTLILLLCCFPCWALFINTEQILLLFRQDPDVSRLTQTYVMVFIPALPAAFLYTLQVKYLLNQGIVLPQVITGIAANLVNALANYLFLHQLHLGVMGSALANTISQFALAIFLFLYILWRKLHHATWGGWSWECLQDWASFLQLAIPSMLMLCIEWWAYEVGSFLSGILGMVELGAQSITYELAIIVYMIPAGFSVAANVRVGNALGAGNIDQAKKSSAISLIVTELFAVTFCVLLLGCKDLVGYIFTTDWDIVALVAQVVPIYAVSHLFEALACTCGGVLRGTGNQKVGAIVNAIGYYVIGLPIGISLMFVAKLGVIGLWSGIIICSVCQTSCFLVFIARLNWKLACQQAQVHANLKVNVALNSAVSQEPAHPVGPESHGEIMMTDLEKKDEIQLDQQMNQQQALPVHPKDSNKLSGKQLALRRGLLFLGVVLVLVGGILVRVYIRT',\n",
              " 'MMKTLSSGNCTLNVPAKNSYRMVVLGASRVGKSSIVSRFLNGRFEDQYTPTIEDFHRKVYNIHGDMYQLDILDTSGNHPFPAMRRLSILTGDVFILVFSLDSRESFDEVKRLQKQILEVKSCLKNKTKEAAELPMVICGNKNDHSELCRQVPAMEAELLVSGDENCAYFEVSAKKNTNVNEMFYVLFSMAKLPHEMSPALHHKISVQYGDAFHPRPFCMRRTKVAGAYGMVSPFARRPSVNSDLKYIKAKVLREGQARERDKCSI',\n",
              " 'MAKRTFSNLETFLIFLLVMMSAITVALLSLLFITSGTIENHKDLGGHFFSTTQSPPATQGSTAAQRSTATQHSTATQSSTATQTSPVPLTPESPLFQNFSGYHIGVGRADCTGQVADINLMGYGKSGQNAQGILTRLYSRAFIMAEPDGSNRTVFVSIDIGMVSQRLRLEVLNRLQSKYGSLYRRDNVILSGTHTHSGPAGYFQYTVFVIASEGFSNQTFQHMVTGILKSIDIAHTNMKPGKIFINKGNVDGVQINRSPYSYLQNPQSERARYSSNTDKEMIVLKMVDLNGDDLGLISWFAIHPVSMNNSNHLVNSDNVGYASYLLEQEKNKGYLPGQGPFVAAFASSNLGDVSPNILGPRCINTGESCDNANSTCPIGGPSMCIAKGPGQDMFDSTQIIGRAMYQRAKELYASASQEVTGPLASAHQWVDMTDVTVWLNSTHASKTCKPALGYSFAAGTIDGVGGLNFTQGKTEGDPFWDTIRDQILGKPSEEIKECHKPKPILLHTGELSKPHPWHPDIVDVQIITLGSLAITAIPGEFTTMSGRRLREAVQAEFASHGMQNMTVVISGLCNVYTHYITTYEEYQAQRYEAASTIYGPHTLSAYIQLFRNLAKAIATDTVANLSRGPEPPFFKQLIVPLIPSIVDRAPKGRTFGDVLQPAKPEYRVGEVAEVIFVGANPKNSVQNQTHQTFLTVEKYEATSTSWQIVCNDASWETRFYWHKGLLGLSNATVEWHIPDTAQPGIYRIRYFGHNRKQDILKPAVILSFEGTSPAFEVVT']"
            ]
          },
          "metadata": {},
          "execution_count": 5
        }
      ],
      "source": [
        "#Check what is in your data\n",
        "print(len(data['seq']))\n",
        "data[\"seq\"][0:4]\n"
      ]
    },
    {
      "cell_type": "code",
      "execution_count": null,
      "metadata": {
        "colab": {
          "base_uri": "https://localhost:8080/"
        },
        "id": "CQHdG4FXXWg4",
        "outputId": "183fa197-8af6-4253-98b5-cc75cd26ab2c"
      },
      "outputs": [
        {
          "output_type": "execute_result",
          "data": {
            "text/plain": [
              "array(['Cell.membrane', 'Cell.membrane', 'Cell.membrane', ...,\n",
              "       'Extracellular', 'Extracellular', 'Extracellular'], dtype='<U21')"
            ]
          },
          "metadata": {},
          "execution_count": 6
        }
      ],
      "source": [
        "data[\"class_labels\"]\n"
      ]
    },
    {
      "cell_type": "code",
      "execution_count": null,
      "metadata": {
        "colab": {
          "base_uri": "https://localhost:8080/"
        },
        "id": "oQL5NlaXcqaf",
        "outputId": "4895e7fc-ca24-4690-9480-b0c7f1604bde"
      },
      "outputs": [
        {
          "output_type": "execute_result",
          "data": {
            "text/plain": [
              "{'Cell.membrane',\n",
              " 'Cytoplasm',\n",
              " 'Cytoplasm-Nucleus',\n",
              " 'Endoplasmic.reticulum',\n",
              " 'Extracellular',\n",
              " 'Golgi.apparatus',\n",
              " 'Lysosome/Vacuole',\n",
              " 'Mitochondrion',\n",
              " 'Nucleus',\n",
              " 'Peroxisome',\n",
              " 'Plastid'}"
            ]
          },
          "metadata": {},
          "execution_count": 7
        }
      ],
      "source": [
        "set(data[\"class_labels\"])"
      ]
    },
    {
      "cell_type": "code",
      "execution_count": null,
      "metadata": {
        "colab": {
          "base_uri": "https://localhost:8080/"
        },
        "id": "zqnMemuDXZgT",
        "outputId": "5fd14192-0f4f-4514-b565-7ba6c4287b61"
      },
      "outputs": [
        {
          "output_type": "stream",
          "name": "stdout",
          "text": [
            "2773 14004\n"
          ]
        },
        {
          "output_type": "execute_result",
          "data": {
            "text/plain": [
              "array(['Q9H400 Cell.membrane-M test', 'Q5I0E9 Cell.membrane-M',\n",
              "       'P63033 Cell.membrane-M', ..., 'P80156 Extracellular-S',\n",
              "       'Q8NIH1 Extracellular-S', 'D4APA9 Extracellular-S'], dtype='<U37')"
            ]
          },
          "metadata": {},
          "execution_count": 8
        }
      ],
      "source": [
        "test = 0\n",
        "for item in enumerate(data[\"names\"]):\n",
        "    # print(item[1])\n",
        "    if 'test' in item[1]:\n",
        "        test += 1\n",
        "print(test, len(data['names']))\n",
        "data[\"names\"]\n"
      ]
    },
    {
      "cell_type": "markdown",
      "metadata": {
        "id": "lH_3_v_Jlqdn"
      },
      "source": [
        "# Pre-processing data"
      ]
    },
    {
      "cell_type": "code",
      "execution_count": null,
      "metadata": {
        "colab": {
          "base_uri": "https://localhost:8080/"
        },
        "id": "QJQr-3kHlbsf",
        "outputId": "f9c14d91-2b1b-4698-d216-a6a9d02f11f9"
      },
      "outputs": [
        {
          "output_type": "stream",
          "name": "stdout",
          "text": [
            "521\n",
            "<class 'str'>\n",
            "GCIPSFGECAWFSGESCCTGICKWVFFTSKFMCRRVWGK\n",
            "GCIPSFGECAWFSGESCCTGICKWVFFTSKFMCRRVWGKZZZZZZZZZZZZZZZZZZZZZZZZZZZZZZZZZZZZZZZZZZZZZZZZZZZZZZZZZZZZZZZZZZZZZZZZZZZZZZZZZZZZZZZZZZZZZZZZZZZZZZZZZZZZZZZZZZZZZZZZZZZZZZZZZZZZZZZZZZZZZZZZZZZZZZZZZZZZZZZZZZZZZZZZZZZZZZZZZZZZZZZZZZZZZZZZZZZZZZZZZZZZZZZZZZZZZZZZZZZZZZZZZZZZZZZZZZZZZZZZZZZZZZZZZZZZZZZZZZZZZZZZZZZZZZZZZZZZZZZZZZZZZZZZZZZZZZZZZZZZZZZZZZZZZZZZZZZZZZZZZZZZZZZZZZZZZZZZZZZZZZZZZZZZZZZZZZZZZZZZZZZZZZZZZZZZZZZZZZZZZZZZZZZZZZZZZZZZZZZZZZZZZZZZZZZZZZZZZZZZZZZZZZZZZZZZZZZZZZZZZZZZZZZZZZZZZZZZZZZZZZZZZZZZZZZZZZZZZZZZZZ\n",
            "MKITSALVLLFAGVAFAQSADPNTNENKNVIHINSPSAA\n",
            "MKITSALVLLFAGVAFAQSADPNTNENKNVIHINSPSAAZZZZZZZZZZZZZZZZZZZZZZZZZZZZZZZZZZZZZZZZZZZZZZZZZZZZZZZZZZZZZZZZZZZZZZZZZZZZZZZZZZZZZZZZZZZZZZZZZZZZZZZZZZZZZZZZZZZZZZZZZZZZZZZZZZZZZZZZZZZZZZZZZZZZZZZZZZZZZZZZZZZZZZZZZZZZZZZZZZZZZZZZZZZZZZZZZZZZZZZZZZZZZZZZZZZZZZZZZZZZZZZZZZZZZZZZZZZZZZZZZZZZZZZZZZZZZZZZZZZZZZZZZZZZZZZZZZZZZZZZZZZZZZZZZZZZZZZZZZZZZZZZZZZZZZZZZZZZZZZZZZZZZZZZZZZZZZZZZZZZZZZZZZZZZZZZZZZZZZZZZZZZZZZZZZZZZZZZZZZZZZZZZZZZZZZZZZZZZZZZZZZZZZZZZZZZZZZZZZZZZZZZZZZZZZZZZZZZZZZZZZZZZZZZZZZZZZZZZZZZZZZZZZZZZZZZZZZZZZZZZZ\n",
            "WCSTCLDLACGASRECYDPCFKAFGRAHGKCMNNKCRCY\n",
            "WCSTCLDLACGASRECYDPCFKAFGRAHGKCMNNKCRCYZZZZZZZZZZZZZZZZZZZZZZZZZZZZZZZZZZZZZZZZZZZZZZZZZZZZZZZZZZZZZZZZZZZZZZZZZZZZZZZZZZZZZZZZZZZZZZZZZZZZZZZZZZZZZZZZZZZZZZZZZZZZZZZZZZZZZZZZZZZZZZZZZZZZZZZZZZZZZZZZZZZZZZZZZZZZZZZZZZZZZZZZZZZZZZZZZZZZZZZZZZZZZZZZZZZZZZZZZZZZZZZZZZZZZZZZZZZZZZZZZZZZZZZZZZZZZZZZZZZZZZZZZZZZZZZZZZZZZZZZZZZZZZZZZZZZZZZZZZZZZZZZZZZZZZZZZZZZZZZZZZZZZZZZZZZZZZZZZZZZZZZZZZZZZZZZZZZZZZZZZZZZZZZZZZZZZZZZZZZZZZZZZZZZZZZZZZZZZZZZZZZZZZZZZZZZZZZZZZZZZZZZZZZZZZZZZZZZZZZZZZZZZZZZZZZZZZZZZZZZZZZZZZZZZZZZZZZZZZZZZZ\n",
            "ATCDLLSGTGVKHSACAAHCLLRGNRGGYCNGRAICVCR\n",
            "ATCDLLSGTGVKHSACAAHCLLRGNRGGYCNGRAICVCRZZZZZZZZZZZZZZZZZZZZZZZZZZZZZZZZZZZZZZZZZZZZZZZZZZZZZZZZZZZZZZZZZZZZZZZZZZZZZZZZZZZZZZZZZZZZZZZZZZZZZZZZZZZZZZZZZZZZZZZZZZZZZZZZZZZZZZZZZZZZZZZZZZZZZZZZZZZZZZZZZZZZZZZZZZZZZZZZZZZZZZZZZZZZZZZZZZZZZZZZZZZZZZZZZZZZZZZZZZZZZZZZZZZZZZZZZZZZZZZZZZZZZZZZZZZZZZZZZZZZZZZZZZZZZZZZZZZZZZZZZZZZZZZZZZZZZZZZZZZZZZZZZZZZZZZZZZZZZZZZZZZZZZZZZZZZZZZZZZZZZZZZZZZZZZZZZZZZZZZZZZZZZZZZZZZZZZZZZZZZZZZZZZZZZZZZZZZZZZZZZZZZZZZZZZZZZZZZZZZZZZZZZZZZZZZZZZZZZZZZZZZZZZZZZZZZZZZZZZZZZZZZZZZZZZZZZZZZZZZZZZ\n",
            "GCIPKHKRCTWSGPKCCNNISCHCNISGTLCKCRPGLFG\n",
            "GCIPKHKRCTWSGPKCCNNISCHCNISGTLCKCRPGLFGZZZZZZZZZZZZZZZZZZZZZZZZZZZZZZZZZZZZZZZZZZZZZZZZZZZZZZZZZZZZZZZZZZZZZZZZZZZZZZZZZZZZZZZZZZZZZZZZZZZZZZZZZZZZZZZZZZZZZZZZZZZZZZZZZZZZZZZZZZZZZZZZZZZZZZZZZZZZZZZZZZZZZZZZZZZZZZZZZZZZZZZZZZZZZZZZZZZZZZZZZZZZZZZZZZZZZZZZZZZZZZZZZZZZZZZZZZZZZZZZZZZZZZZZZZZZZZZZZZZZZZZZZZZZZZZZZZZZZZZZZZZZZZZZZZZZZZZZZZZZZZZZZZZZZZZZZZZZZZZZZZZZZZZZZZZZZZZZZZZZZZZZZZZZZZZZZZZZZZZZZZZZZZZZZZZZZZZZZZZZZZZZZZZZZZZZZZZZZZZZZZZZZZZZZZZZZZZZZZZZZZZZZZZZZZZZZZZZZZZZZZZZZZZZZZZZZZZZZZZZZZZZZZZZZZZZZZZZZZZZZZ\n",
            "VHVGPCDQVCSRIDPEKDECCRAHGYRGHSSCYYGRMEC\n",
            "VHVGPCDQVCSRIDPEKDECCRAHGYRGHSSCYYGRMECZZZZZZZZZZZZZZZZZZZZZZZZZZZZZZZZZZZZZZZZZZZZZZZZZZZZZZZZZZZZZZZZZZZZZZZZZZZZZZZZZZZZZZZZZZZZZZZZZZZZZZZZZZZZZZZZZZZZZZZZZZZZZZZZZZZZZZZZZZZZZZZZZZZZZZZZZZZZZZZZZZZZZZZZZZZZZZZZZZZZZZZZZZZZZZZZZZZZZZZZZZZZZZZZZZZZZZZZZZZZZZZZZZZZZZZZZZZZZZZZZZZZZZZZZZZZZZZZZZZZZZZZZZZZZZZZZZZZZZZZZZZZZZZZZZZZZZZZZZZZZZZZZZZZZZZZZZZZZZZZZZZZZZZZZZZZZZZZZZZZZZZZZZZZZZZZZZZZZZZZZZZZZZZZZZZZZZZZZZZZZZZZZZZZZZZZZZZZZZZZZZZZZZZZZZZZZZZZZZZZZZZZZZZZZZZZZZZZZZZZZZZZZZZZZZZZZZZZZZZZZZZZZZZZZZZZZZZZZZZZZZ\n",
            "ATCDLLSGTGIKHSACAAHCLLRGNRGGYCNGRAICVCR\n",
            "ATCDLLSGTGIKHSACAAHCLLRGNRGGYCNGRAICVCRZZZZZZZZZZZZZZZZZZZZZZZZZZZZZZZZZZZZZZZZZZZZZZZZZZZZZZZZZZZZZZZZZZZZZZZZZZZZZZZZZZZZZZZZZZZZZZZZZZZZZZZZZZZZZZZZZZZZZZZZZZZZZZZZZZZZZZZZZZZZZZZZZZZZZZZZZZZZZZZZZZZZZZZZZZZZZZZZZZZZZZZZZZZZZZZZZZZZZZZZZZZZZZZZZZZZZZZZZZZZZZZZZZZZZZZZZZZZZZZZZZZZZZZZZZZZZZZZZZZZZZZZZZZZZZZZZZZZZZZZZZZZZZZZZZZZZZZZZZZZZZZZZZZZZZZZZZZZZZZZZZZZZZZZZZZZZZZZZZZZZZZZZZZZZZZZZZZZZZZZZZZZZZZZZZZZZZZZZZZZZZZZZZZZZZZZZZZZZZZZZZZZZZZZZZZZZZZZZZZZZZZZZZZZZZZZZZZZZZZZZZZZZZZZZZZZZZZZZZZZZZZZZZZZZZZZZZZZZZZZZZ\n",
            "ECADVYKECWYPEKPCCKDRACQCSLGMNCKCKATLGDI\n",
            "ECADVYKECWYPEKPCCKDRACQCSLGMNCKCKATLGDIZZZZZZZZZZZZZZZZZZZZZZZZZZZZZZZZZZZZZZZZZZZZZZZZZZZZZZZZZZZZZZZZZZZZZZZZZZZZZZZZZZZZZZZZZZZZZZZZZZZZZZZZZZZZZZZZZZZZZZZZZZZZZZZZZZZZZZZZZZZZZZZZZZZZZZZZZZZZZZZZZZZZZZZZZZZZZZZZZZZZZZZZZZZZZZZZZZZZZZZZZZZZZZZZZZZZZZZZZZZZZZZZZZZZZZZZZZZZZZZZZZZZZZZZZZZZZZZZZZZZZZZZZZZZZZZZZZZZZZZZZZZZZZZZZZZZZZZZZZZZZZZZZZZZZZZZZZZZZZZZZZZZZZZZZZZZZZZZZZZZZZZZZZZZZZZZZZZZZZZZZZZZZZZZZZZZZZZZZZZZZZZZZZZZZZZZZZZZZZZZZZZZZZZZZZZZZZZZZZZZZZZZZZZZZZZZZZZZZZZZZZZZZZZZZZZZZZZZZZZZZZZZZZZZZZZZZZZZZZZZZZ\n",
            "B U X H: 2 30 75 173821 365108.1\n",
            "14004\n",
            "Counter({521: 14004})\n"
          ]
        }
      ],
      "source": [
        "from statistics import mean\n",
        "from collections import Counter\n",
        "\n",
        "# Padding each sequence to same length\n",
        "# mean length\n",
        "mean_len = int(mean([len(k) for k in data['seq']]))\n",
        "print(mean_len)\n",
        "sequences_data = []\n",
        "print(type(data['seq'][0]))\n",
        "common = {'A', 'C', 'D', 'E', 'F', 'G', 'H', 'I', 'K', 'L',\n",
        "         'M', 'N', 'P', 'Q', 'R', 'S', 'T', 'V', 'W', 'Y'}\n",
        "B = 0\n",
        "U = 0\n",
        "X = 0\n",
        "H = 0\n",
        "count = 0\n",
        "for sequence in data['seq']:\n",
        "    B += sequence.count('B')\n",
        "    U += sequence.count('U')\n",
        "    X += sequence.count('X')\n",
        "    H += sequence.count('H')\n",
        "    count += len(sequence)\n",
        "    if len(sequence) > mean_len:\n",
        "        new_sequence = sequence[:mean_len]\n",
        "    else:\n",
        "        new_sequence = sequence.ljust(mean_len, 'Z')\n",
        "        if len(sequence) < 40:\n",
        "            print(sequence)\n",
        "            print(new_sequence)\n",
        "    sequences_data.append(new_sequence)\n",
        "\n",
        "print('B U X H:', B, U, X, H, (count - 107)/20)\n",
        "print(len(sequences_data))\n",
        "print(Counter([len(k) for k in sequences_data]))\n"
      ]
    },
    {
      "cell_type": "code",
      "execution_count": null,
      "metadata": {
        "colab": {
          "base_uri": "https://localhost:8080/"
        },
        "id": "Bu2WmpyY9eFw",
        "outputId": "86f2b967-7630-48ef-ebc4-ac25ff21faf4"
      },
      "outputs": [
        {
          "output_type": "stream",
          "name": "stdout",
          "text": [
            "24 {'Q', 'L', 'I', 'S', 'W', 'D', 'C', 'U', 'R', 'G', 'M', 'B', 'E', 'Y', 'Z', 'A', 'V', 'H', 'F', 'P', 'T', 'N', 'K', 'X'}\n",
            "['A', 'B', 'C', 'D', 'E', 'F', 'G', 'H', 'I', 'K', 'L', 'M', 'N', 'P', 'Q', 'R', 'S', 'T', 'U', 'V', 'W', 'X', 'Y', 'Z']\n"
          ]
        }
      ],
      "source": [
        "# Only consider common 20 types of amino acid and integer encoding\n",
        "aa_set = set()\n",
        "for sequence in sequences_data:\n",
        "    for aa in sequence:\n",
        "        aa_set.add(aa)\n",
        "print(len(aa_set), aa_set)\n",
        "AA = sorted(list(aa_set))\n",
        "print(AA)"
      ]
    },
    {
      "cell_type": "code",
      "execution_count": null,
      "metadata": {
        "colab": {
          "base_uri": "https://localhost:8080/"
        },
        "id": "mu5rzjLBPvTO",
        "outputId": "71d1fb1d-e71c-42d7-d301-2fc988b78964"
      },
      "outputs": [
        {
          "output_type": "execute_result",
          "data": {
            "text/plain": [
              "{'A': 1,\n",
              " 'C': 2,\n",
              " 'D': 3,\n",
              " 'E': 4,\n",
              " 'F': 5,\n",
              " 'G': 6,\n",
              " 'H': 7,\n",
              " 'I': 8,\n",
              " 'K': 9,\n",
              " 'L': 10,\n",
              " 'M': 11,\n",
              " 'N': 12,\n",
              " 'P': 13,\n",
              " 'Q': 14,\n",
              " 'R': 15,\n",
              " 'S': 16,\n",
              " 'T': 17,\n",
              " 'V': 18,\n",
              " 'W': 19,\n",
              " 'Y': 20}"
            ]
          },
          "metadata": {},
          "execution_count": 11
        }
      ],
      "source": [
        "common = ['A', 'C', 'D', 'E', 'F', 'G', 'H', 'I', 'K', 'L',\n",
        "         'M', 'N', 'P', 'Q', 'R', 'S', 'T', 'V', 'W', 'Y']\n",
        "aa_dict = {k: v+1 for v, k in enumerate(common)}\n",
        "aa_dict\n"
      ]
    },
    {
      "cell_type": "code",
      "execution_count": null,
      "metadata": {
        "id": "otyZaRcHTgRv"
      },
      "outputs": [],
      "source": [
        "# Integer Encode padded / trimmed sequences with mean length"
      ]
    },
    {
      "cell_type": "code",
      "execution_count": null,
      "metadata": {
        "id": "W1xoj5GLQzSf"
      },
      "outputs": [],
      "source": [
        "def integer_encode(sequences):\n",
        "    integer_encoded = []\n",
        "    for sequence in sequences:\n",
        "        encoded = []\n",
        "        for aa in sequence:\n",
        "            if aa in aa_dict:\n",
        "                encoded.append(aa_dict[aa])\n",
        "            else:\n",
        "                encoded.append(0)\n",
        "        integer_encoded.append(encoded)\n",
        "    return integer_encoded"
      ]
    },
    {
      "cell_type": "code",
      "execution_count": null,
      "metadata": {
        "id": "9GaImnxJG7oS"
      },
      "outputs": [],
      "source": [
        "# One hot encoding \n",
        "def one_hot_encode(integer_encoded):\n",
        "    input_features = []\n",
        "    for row in integer_encoded:\n",
        "        one_hot_encoded = []\n",
        "        # print(row)\n",
        "        for num in row:\n",
        "            lst = [0 for i in range(len(aa_dict))]\n",
        "            if num > 0:\n",
        "              lst[num - 1] = 1\n",
        "            # print(lst)\n",
        "            one_hot_encoded.append(lst)\n",
        "        input_features.append(one_hot_encoded)\n",
        "    return input_features\n"
      ]
    },
    {
      "cell_type": "code",
      "execution_count": null,
      "metadata": {
        "id": "cqPaUpoyabbk"
      },
      "outputs": [],
      "source": [
        "import numpy as np\n",
        "import pandas as pd\n",
        "from statistics import mean\n",
        "from collections import Counter\n",
        "\n",
        "from sklearn.preprocessing import LabelEncoder, OneHotEncoder\n",
        "\n",
        "# process labels\n",
        "def one_hot_encode_label():\n",
        "    labels = []\n",
        "    integer_encoder = LabelEncoder()  \n",
        "    one_hot_encoder = OneHotEncoder(categories='auto') \n",
        "    # for label in y[:10]:\n",
        "    integer_encoded = integer_encoder.fit_transform(data['class_labels'])\n",
        "    # print('1:', max(integer_encoded), integer_encoded)\n",
        "    integer_encoded = np.array(integer_encoded).reshape(-1, 1)\n",
        "    # print('11:',integer_encoded)\n",
        "    one_hot_encoded = one_hot_encoder.fit_transform(integer_encoded)\n",
        "    # print('2:',one_hot_encoded.toarray())\n",
        "    label = one_hot_encoded.toarray()\n",
        "    labels.append(label)\n",
        "\n",
        "    return labels"
      ]
    },
    {
      "cell_type": "code",
      "execution_count": null,
      "metadata": {
        "colab": {
          "base_uri": "https://localhost:8080/"
        },
        "id": "T3y86IsXbERN",
        "outputId": "3e04d865-93a9-4cd3-a2ef-eed539fcff3a"
      },
      "outputs": [
        {
          "output_type": "stream",
          "name": "stdout",
          "text": [
            "14004\n"
          ]
        }
      ],
      "source": [
        "# Get pre-processed data\n",
        "integer_encoded = integer_encode(sequences_data)\n",
        "print(len(integer_encoded))\n",
        "input_features = one_hot_encode(integer_encoded)\n",
        "input_features = np.array(input_features)\n",
        "\n"
      ]
    },
    {
      "cell_type": "code",
      "execution_count": null,
      "metadata": {
        "colab": {
          "base_uri": "https://localhost:8080/"
        },
        "id": "IRRyG6T5cOTh",
        "outputId": "26258c14-babf-4d1e-e868-f87cdcee96b8"
      },
      "outputs": [
        {
          "output_type": "stream",
          "name": "stdout",
          "text": [
            "<class 'numpy.ndarray'>\n",
            "14004 521 20\n",
            "[[[0 0 0 ... 0 0 0]\n",
            "  [0 0 0 ... 0 0 0]\n",
            "  [0 0 0 ... 0 0 0]\n",
            "  ...\n",
            "  [0 0 0 ... 0 0 0]\n",
            "  [0 0 0 ... 0 0 0]\n",
            "  [0 0 0 ... 0 0 0]]\n",
            "\n",
            " [[0 0 0 ... 0 0 0]\n",
            "  [0 0 0 ... 0 0 0]\n",
            "  [0 0 0 ... 1 0 0]\n",
            "  ...\n",
            "  [0 0 0 ... 0 0 0]\n",
            "  [0 0 0 ... 0 0 0]\n",
            "  [0 0 0 ... 0 0 0]]]\n",
            "\n",
            " [[0 0 0 0 0 0 0 0 0 0 1 0 0 0 0 0 0 0 0 0]\n",
            " [0 0 0 0 0 1 0 0 0 0 0 0 0 0 0 0 0 0 0 0]\n",
            " [0 0 0 0 0 0 0 0 0 1 0 0 0 0 0 0 0 0 0 0]\n",
            " [0 0 0 0 0 0 0 0 0 0 0 0 1 0 0 0 0 0 0 0]\n",
            " [0 0 0 0 0 0 0 0 0 0 0 0 0 0 0 0 0 1 0 0]]\n"
          ]
        }
      ],
      "source": [
        "print(type(input_features))\n",
        "print(len(input_features), len(input_features[0]), len(input_features[0][0]))\n",
        "print(input_features[:2])\n",
        "print('\\n', input_features[0][:5])"
      ]
    },
    {
      "cell_type": "code",
      "execution_count": null,
      "metadata": {
        "id": "A7bMEYBG1nbP"
      },
      "outputs": [],
      "source": [
        "labels = one_hot_encode_label()\n",
        "labels = np.array(labels)[0]"
      ]
    },
    {
      "cell_type": "code",
      "execution_count": null,
      "metadata": {
        "colab": {
          "base_uri": "https://localhost:8080/"
        },
        "id": "qxn9quF5cQsl",
        "outputId": "b01b848e-3cfc-4f4c-a312-51a89be9f38b"
      },
      "outputs": [
        {
          "output_type": "stream",
          "name": "stdout",
          "text": [
            "<class 'numpy.ndarray'> \n",
            " [[1. 0. 0. ... 0. 0. 0.]\n",
            " [1. 0. 0. ... 0. 0. 0.]\n",
            " [1. 0. 0. ... 0. 0. 0.]\n",
            " ...\n",
            " [0. 0. 0. ... 0. 0. 0.]\n",
            " [0. 0. 0. ... 0. 0. 0.]\n",
            " [0. 0. 0. ... 0. 0. 0.]]\n",
            "\n",
            " [[1. 0. 0. 0. 0. 0. 0. 0. 0. 0. 0.]\n",
            " [1. 0. 0. 0. 0. 0. 0. 0. 0. 0. 0.]\n",
            " [1. 0. 0. 0. 0. 0. 0. 0. 0. 0. 0.]\n",
            " [1. 0. 0. 0. 0. 0. 0. 0. 0. 0. 0.]]\n"
          ]
        }
      ],
      "source": [
        "print(type(labels), '\\n', labels)\n",
        "print('\\n', labels[:4])"
      ]
    },
    {
      "cell_type": "markdown",
      "metadata": {
        "id": "4J62h-9Ia_lD"
      },
      "source": [
        "# Method 1: Bidirectional LSTM"
      ]
    },
    {
      "cell_type": "code",
      "execution_count": null,
      "metadata": {
        "colab": {
          "base_uri": "https://localhost:8080/"
        },
        "id": "40INmSB7a-d1",
        "outputId": "ad76a3aa-e8e8-43a7-b9ff-def09e4f540c"
      },
      "outputs": [
        {
          "output_type": "stream",
          "name": "stdout",
          "text": [
            "(11203, 521, 20) (2801, 521, 20)\n",
            "(11203, 11) (2801, 11)\n"
          ]
        }
      ],
      "source": [
        "from sklearn.model_selection import train_test_split\n",
        "\n",
        "# split training and testing (0.8, 0.2)\n",
        "X_train, X_test, y_train, y_test = train_test_split(input_features, \n",
        "                                                    labels, \n",
        "                                                    test_size = 0.20,\n",
        "                                                    random_state = 40)\n",
        "\n",
        "print(X_train.shape, X_test.shape)\n",
        "print(y_train.shape, y_test.shape)"
      ]
    },
    {
      "cell_type": "code",
      "execution_count": null,
      "metadata": {
        "id": "Ngw01VYi9LEJ"
      },
      "outputs": [],
      "source": [
        "# # Separate training and testing data\n",
        "# X_train1 = []\n",
        "# y_train1 = []\n",
        "# X_test1 = []\n",
        "# y_test1 = []\n",
        "\n",
        "# # for i in range(100):\n",
        "# for i in range(len(data['names'])):\n",
        "#     if 'test' in data['names'][i]:\n",
        "#         X_test1.append(input_features[i])\n",
        "#         y_test1.append(labels[i])\n",
        "#     else:\n",
        "#         X_train1.append(input_features[i])\n",
        "#         y_train1.append(labels[i])\n",
        "\n"
      ]
    },
    {
      "cell_type": "code",
      "execution_count": null,
      "metadata": {
        "id": "aMN48Ty5C900"
      },
      "outputs": [],
      "source": [
        "# X_train = np.array(X_train1)\n",
        "# y_train = np.array(y_test1)\n",
        "# X_test = np.array(X_test1)\n",
        "# y_test = np.array(y_test1)"
      ]
    },
    {
      "cell_type": "code",
      "execution_count": null,
      "metadata": {
        "colab": {
          "base_uri": "https://localhost:8080/"
        },
        "id": "j0znZnEX_oA8",
        "outputId": "8ecce3d0-96e8-4883-c623-07f22196b8d4"
      },
      "outputs": [
        {
          "output_type": "stream",
          "name": "stdout",
          "text": [
            "(11203, 521, 20) (2801, 521, 20)\n",
            "(11203, 11) (2801, 11)\n"
          ]
        }
      ],
      "source": [
        "print(X_train.shape, X_test.shape)\n",
        "print(y_train.shape, y_test.shape)"
      ]
    },
    {
      "cell_type": "code",
      "execution_count": null,
      "metadata": {
        "id": "aORHY2qG6JF2"
      },
      "outputs": [],
      "source": [
        "# x_input = Input(shape=(100,))\n",
        "# emb = Embedding(21, 128, input_length=max_length)(x_input)\n",
        "# bi_rnn = Bidirectional(CuDNNLSTM(64, kernel_regularizer=l2(0.01), recurrent_regularizer=l2(0.01), bias_regularizer=l2(0.01)))(emb)\n",
        "# x = Dropout(0.3)(bi_rnn)\n",
        "\n",
        "# # softmax classifier\n",
        "# x_output = Dense(1000, activation='softmax')(x)\n",
        "\n",
        "# model1 = Model(inputs=x_input, outputs=x_output)\n",
        "# model1.compile(optimizer='adam', loss='categorical_crossentropy', metrics=['accuracy'])"
      ]
    },
    {
      "cell_type": "code",
      "execution_count": null,
      "metadata": {
        "id": "Jdrwz9CK7eH4"
      },
      "outputs": [],
      "source": [
        ""
      ]
    },
    {
      "cell_type": "code",
      "execution_count": null,
      "metadata": {
        "colab": {
          "base_uri": "https://localhost:8080/"
        },
        "id": "qCPRb4MrWbC8",
        "outputId": "abef4b85-183d-44c1-b242-65a98eb5f8a4"
      },
      "outputs": [
        {
          "output_type": "stream",
          "name": "stdout",
          "text": [
            "building model\n",
            "compiling model\n",
            "running at most 30 epochs\n",
            "Epoch 1/30\n",
            "44/44 [==============================] - ETA: 0s - loss: 0.2724 - cosine_similarity: 0.4386WARNING:tensorflow:Can save best model only with val_loss available, skipping.\n",
            "44/44 [==============================] - 33s 396ms/step - loss: 0.2724 - cosine_similarity: 0.4386\n",
            "Epoch 2/30\n",
            "44/44 [==============================] - ETA: 0s - loss: 0.2204 - cosine_similarity: 0.5378WARNING:tensorflow:Can save best model only with val_loss available, skipping.\n",
            "44/44 [==============================] - 17s 380ms/step - loss: 0.2204 - cosine_similarity: 0.5378\n",
            "Epoch 3/30\n",
            "44/44 [==============================] - ETA: 0s - loss: 0.2014 - cosine_similarity: 0.5879WARNING:tensorflow:Can save best model only with val_loss available, skipping.\n",
            "44/44 [==============================] - 16s 371ms/step - loss: 0.2014 - cosine_similarity: 0.5879\n",
            "Epoch 4/30\n",
            "44/44 [==============================] - ETA: 0s - loss: 0.1866 - cosine_similarity: 0.6239WARNING:tensorflow:Can save best model only with val_loss available, skipping.\n",
            "44/44 [==============================] - 17s 396ms/step - loss: 0.1866 - cosine_similarity: 0.6239\n",
            "Epoch 5/30\n",
            "44/44 [==============================] - ETA: 0s - loss: 0.1764 - cosine_similarity: 0.6469WARNING:tensorflow:Can save best model only with val_loss available, skipping.\n",
            "44/44 [==============================] - 17s 387ms/step - loss: 0.1764 - cosine_similarity: 0.6469\n",
            "Epoch 6/30\n",
            "44/44 [==============================] - ETA: 0s - loss: 0.1662 - cosine_similarity: 0.6718WARNING:tensorflow:Can save best model only with val_loss available, skipping.\n",
            "44/44 [==============================] - 16s 373ms/step - loss: 0.1662 - cosine_similarity: 0.6718\n",
            "Epoch 7/30\n",
            "44/44 [==============================] - ETA: 0s - loss: 0.1598 - cosine_similarity: 0.6869WARNING:tensorflow:Can save best model only with val_loss available, skipping.\n",
            "44/44 [==============================] - 17s 386ms/step - loss: 0.1598 - cosine_similarity: 0.6869\n",
            "Epoch 8/30\n",
            "44/44 [==============================] - ETA: 0s - loss: 0.1513 - cosine_similarity: 0.7037WARNING:tensorflow:Can save best model only with val_loss available, skipping.\n",
            "44/44 [==============================] - 17s 390ms/step - loss: 0.1513 - cosine_similarity: 0.7037\n",
            "Epoch 9/30\n",
            "44/44 [==============================] - ETA: 0s - loss: 0.1440 - cosine_similarity: 0.7231WARNING:tensorflow:Can save best model only with val_loss available, skipping.\n",
            "44/44 [==============================] - 17s 387ms/step - loss: 0.1440 - cosine_similarity: 0.7231\n",
            "Epoch 10/30\n",
            "44/44 [==============================] - ETA: 0s - loss: 0.1387 - cosine_similarity: 0.7317WARNING:tensorflow:Can save best model only with val_loss available, skipping.\n",
            "44/44 [==============================] - 17s 377ms/step - loss: 0.1387 - cosine_similarity: 0.7317\n",
            "Epoch 11/30\n",
            "44/44 [==============================] - ETA: 0s - loss: 0.1337 - cosine_similarity: 0.7446WARNING:tensorflow:Can save best model only with val_loss available, skipping.\n",
            "44/44 [==============================] - 16s 374ms/step - loss: 0.1337 - cosine_similarity: 0.7446\n",
            "Epoch 12/30\n",
            "44/44 [==============================] - ETA: 0s - loss: 0.1278 - cosine_similarity: 0.7576WARNING:tensorflow:Can save best model only with val_loss available, skipping.\n",
            "44/44 [==============================] - 17s 375ms/step - loss: 0.1278 - cosine_similarity: 0.7576\n",
            "Epoch 13/30\n",
            "44/44 [==============================] - ETA: 0s - loss: 0.1207 - cosine_similarity: 0.7720WARNING:tensorflow:Can save best model only with val_loss available, skipping.\n",
            "44/44 [==============================] - 17s 380ms/step - loss: 0.1207 - cosine_similarity: 0.7720\n",
            "Epoch 14/30\n",
            "44/44 [==============================] - ETA: 0s - loss: 0.1142 - cosine_similarity: 0.7870WARNING:tensorflow:Can save best model only with val_loss available, skipping.\n",
            "44/44 [==============================] - 17s 375ms/step - loss: 0.1142 - cosine_similarity: 0.7870\n",
            "Epoch 15/30\n",
            "44/44 [==============================] - ETA: 0s - loss: 0.1092 - cosine_similarity: 0.7982WARNING:tensorflow:Can save best model only with val_loss available, skipping.\n",
            "44/44 [==============================] - 17s 388ms/step - loss: 0.1092 - cosine_similarity: 0.7982\n",
            "Epoch 16/30\n",
            "44/44 [==============================] - ETA: 0s - loss: 0.1035 - cosine_similarity: 0.8102WARNING:tensorflow:Can save best model only with val_loss available, skipping.\n",
            "44/44 [==============================] - 16s 371ms/step - loss: 0.1035 - cosine_similarity: 0.8102\n",
            "Epoch 17/30\n",
            "44/44 [==============================] - ETA: 0s - loss: 0.0966 - cosine_similarity: 0.8263WARNING:tensorflow:Can save best model only with val_loss available, skipping.\n",
            "44/44 [==============================] - 16s 368ms/step - loss: 0.0966 - cosine_similarity: 0.8263\n",
            "Epoch 18/30\n",
            "44/44 [==============================] - ETA: 0s - loss: 0.0895 - cosine_similarity: 0.8418WARNING:tensorflow:Can save best model only with val_loss available, skipping.\n",
            "44/44 [==============================] - 16s 367ms/step - loss: 0.0895 - cosine_similarity: 0.8418\n",
            "Epoch 19/30\n",
            "44/44 [==============================] - ETA: 0s - loss: 0.0850 - cosine_similarity: 0.8531WARNING:tensorflow:Can save best model only with val_loss available, skipping.\n",
            "44/44 [==============================] - 16s 371ms/step - loss: 0.0850 - cosine_similarity: 0.8531\n",
            "Epoch 20/30\n",
            "44/44 [==============================] - ETA: 0s - loss: 0.0798 - cosine_similarity: 0.8628WARNING:tensorflow:Can save best model only with val_loss available, skipping.\n",
            "44/44 [==============================] - 16s 369ms/step - loss: 0.0798 - cosine_similarity: 0.8628\n",
            "Epoch 21/30\n",
            "44/44 [==============================] - ETA: 0s - loss: 0.0742 - cosine_similarity: 0.8763WARNING:tensorflow:Can save best model only with val_loss available, skipping.\n",
            "44/44 [==============================] - 16s 371ms/step - loss: 0.0742 - cosine_similarity: 0.8763\n",
            "Epoch 22/30\n",
            "44/44 [==============================] - ETA: 0s - loss: 0.0660 - cosine_similarity: 0.8933WARNING:tensorflow:Can save best model only with val_loss available, skipping.\n",
            "44/44 [==============================] - 17s 387ms/step - loss: 0.0660 - cosine_similarity: 0.8933\n",
            "Epoch 23/30\n",
            "44/44 [==============================] - ETA: 0s - loss: 0.0599 - cosine_similarity: 0.9061WARNING:tensorflow:Can save best model only with val_loss available, skipping.\n",
            "44/44 [==============================] - 17s 389ms/step - loss: 0.0599 - cosine_similarity: 0.9061\n",
            "Epoch 24/30\n",
            "44/44 [==============================] - ETA: 0s - loss: 0.0546 - cosine_similarity: 0.9168WARNING:tensorflow:Can save best model only with val_loss available, skipping.\n",
            "44/44 [==============================] - 17s 382ms/step - loss: 0.0546 - cosine_similarity: 0.9168\n",
            "Epoch 25/30\n",
            "44/44 [==============================] - ETA: 0s - loss: 0.0503 - cosine_similarity: 0.9267WARNING:tensorflow:Can save best model only with val_loss available, skipping.\n",
            "44/44 [==============================] - 17s 397ms/step - loss: 0.0503 - cosine_similarity: 0.9267\n",
            "Epoch 26/30\n",
            "44/44 [==============================] - ETA: 0s - loss: 0.0458 - cosine_similarity: 0.9349WARNING:tensorflow:Can save best model only with val_loss available, skipping.\n",
            "44/44 [==============================] - 19s 422ms/step - loss: 0.0458 - cosine_similarity: 0.9349\n",
            "Epoch 27/30\n",
            "44/44 [==============================] - ETA: 0s - loss: 0.0424 - cosine_similarity: 0.9418WARNING:tensorflow:Can save best model only with val_loss available, skipping.\n",
            "44/44 [==============================] - 17s 386ms/step - loss: 0.0424 - cosine_similarity: 0.9418\n",
            "Epoch 28/30\n",
            "44/44 [==============================] - ETA: 0s - loss: 0.0383 - cosine_similarity: 0.9500WARNING:tensorflow:Can save best model only with val_loss available, skipping.\n",
            "44/44 [==============================] - 17s 389ms/step - loss: 0.0383 - cosine_similarity: 0.9500\n",
            "Epoch 29/30\n",
            "44/44 [==============================] - ETA: 0s - loss: 0.0343 - cosine_similarity: 0.9566WARNING:tensorflow:Can save best model only with val_loss available, skipping.\n",
            "44/44 [==============================] - 17s 381ms/step - loss: 0.0343 - cosine_similarity: 0.9566\n",
            "Epoch 30/30\n",
            "44/44 [==============================] - ETA: 0s - loss: 0.0320 - cosine_similarity: 0.9599WARNING:tensorflow:Can save best model only with val_loss available, skipping.\n",
            "44/44 [==============================] - 17s 396ms/step - loss: 0.0320 - cosine_similarity: 0.9599\n",
            "Model: \"sequential\"\n",
            "_________________________________________________________________\n",
            " Layer (type)                Output Shape              Param #   \n",
            "=================================================================\n",
            " conv1d (Conv1D)             (None, 510, 32)           7712      \n",
            "                                                                 \n",
            " max_pooling1d (MaxPooling1D  (None, 39, 32)           0         \n",
            " )                                                               \n",
            "                                                                 \n",
            " dropout (Dropout)           (None, 39, 32)            0         \n",
            "                                                                 \n",
            " bidirectional (Bidirectiona  (None, 39, 640)          903680    \n",
            " l)                                                              \n",
            "                                                                 \n",
            " dropout_1 (Dropout)         (None, 39, 640)           0         \n",
            "                                                                 \n",
            " flatten (Flatten)           (None, 24960)             0         \n",
            "                                                                 \n",
            " dense (Dense)               (None, 640)               15975040  \n",
            "                                                                 \n",
            " activation (Activation)     (None, 640)               0         \n",
            "                                                                 \n",
            " dense_1 (Dense)             (None, 11)                7051      \n",
            "                                                                 \n",
            " activation_1 (Activation)   (None, 11)                0         \n",
            "                                                                 \n",
            "=================================================================\n",
            "Total params: 16,893,483\n",
            "Trainable params: 16,893,483\n",
            "Non-trainable params: 0\n",
            "_________________________________________________________________\n"
          ]
        }
      ],
      "source": [
        "import keras\n",
        "import tensorflow as tf\n",
        "from keras.preprocessing import sequence\n",
        "from keras.models import Sequential\n",
        "from keras.regularizers import l2\n",
        "from keras.constraints import maxnorm\n",
        "from keras.layers.recurrent import LSTM, GRU\n",
        "from keras.callbacks import ModelCheckpoint, EarlyStopping\n",
        "from keras.layers import Bidirectional\n",
        "from keras.layers import Convolution1D, MaxPooling1D, Dropout, Flatten, Dense, Activation\n",
        "\n",
        "forward_lstm = LSTM(units=320, return_sequences=True)\n",
        "backward_lstm = LSTM(units=320, input_dim=320, return_sequences=True, go_backwards=True)\n",
        "brnn = Bidirectional(forward_lstm, backward_layer=backward_lstm)\n",
        "\n",
        "print('building model')\n",
        "\n",
        "model = Sequential()\n",
        "model.add(Convolution1D(activation=\"relu\", \n",
        "                        input_shape=(521, 20), \n",
        "                        padding=\"valid\", strides=1, \n",
        "                        filters=32, kernel_size=12))\n",
        "\n",
        "model.add(MaxPooling1D(strides=13, pool_size=13))\n",
        "\n",
        "model.add(Dropout(0.2))\n",
        "\n",
        "model.add(brnn)\n",
        "\n",
        "model.add(Dropout(0.5))\n",
        "\n",
        "model.add(Flatten())\n",
        "\n",
        "model.add(Dense(input_dim=75*640, units=640))\n",
        "model.add(Activation('relu'))\n",
        "\n",
        "model.add(Dense(input_dim=640, units=11))\n",
        "model.add(Activation('softmax'))\n",
        "\n",
        "print('compiling model')\n",
        "model.compile(loss='binary_crossentropy', optimizer='adam', metrics=['cosine_similarity'])\n",
        "\n",
        "print('running at most 30 epochs')\n",
        "\n",
        "checkpointer = ModelCheckpoint(filepath=\"DanQ_bestmodel.hdf5\", verbose=1, save_best_only=True)\n",
        "earlystopper = EarlyStopping(monitor='loss', patience=5, verbose=1)\n",
        "\n",
        "model.fit(X_train, y_train, batch_size=256, epochs=30,\n",
        "          shuffle=True,\n",
        "          # validation_split=0.25,\n",
        "          callbacks=[checkpointer,earlystopper])\n",
        "model.summary()"
      ]
    },
    {
      "cell_type": "code",
      "execution_count": null,
      "metadata": {
        "colab": {
          "base_uri": "https://localhost:8080/"
        },
        "id": "N5HXcPGXfC2H",
        "outputId": "0be3f1c1-0c25-4a1c-e012-de0286df528e"
      },
      "outputs": [
        {
          "output_type": "stream",
          "name": "stdout",
          "text": [
            "88/88 [==============================] - 4s 36ms/step - loss: 0.1975 - cosine_similarity: 0.7001\n",
            "[0.1974879801273346, 0.7001370191574097]\n"
          ]
        }
      ],
      "source": [
        "tresults = model.evaluate(X_test, y_test)\n",
        "print(tresults) "
      ]
    },
    {
      "cell_type": "code",
      "execution_count": null,
      "metadata": {
        "colab": {
          "base_uri": "https://localhost:8080/"
        },
        "id": "L9rHnTCgfmP9",
        "outputId": "21e5aca2-8550-4147-dde8-291078a9c053"
      },
      "outputs": [
        {
          "output_type": "stream",
          "name": "stdout",
          "text": [
            "[[1.28785127e-09 7.18353760e-07 1.28840725e-08 ... 9.99998569e-01\n",
            "  8.67978356e-10 8.24200343e-12]\n",
            " [3.73294228e-03 9.89547372e-03 4.63164895e-07 ... 3.18841593e-08\n",
            "  1.64931174e-03 3.13245953e-04]\n",
            " [1.22743904e-08 1.11449970e-06 1.23494947e-11 ... 2.08496349e-08\n",
            "  7.36013739e-09 3.42713719e-10]\n",
            " ...\n",
            " [9.63498496e-06 9.95854497e-01 6.92561798e-06 ... 6.15531870e-04\n",
            "  1.97314890e-03 2.74858553e-06]\n",
            " [1.22981803e-09 3.98305300e-09 2.35716477e-08 ... 8.99327830e-08\n",
            "  1.35306886e-08 5.36771960e-10]\n",
            " [9.44189438e-09 1.17777905e-04 2.59295163e-08 ... 9.99879956e-01\n",
            "  6.82764782e-12 3.15571180e-11]]\n"
          ]
        }
      ],
      "source": [
        "preds = model.predict(X_test)\n",
        "print(preds)"
      ]
    },
    {
      "cell_type": "code",
      "execution_count": null,
      "metadata": {
        "colab": {
          "base_uri": "https://localhost:8080/"
        },
        "id": "zQDkvB7wk-II",
        "outputId": "a26f6526-04e7-4ce8-cb47-51d8ecec9031"
      },
      "outputs": [
        {
          "output_type": "execute_result",
          "data": {
            "text/plain": [
              "array([[0., 0., 0., 0., 0., 0., 0., 0., 1., 0., 0.],\n",
              "       [0., 0., 0., 0., 0., 0., 0., 1., 0., 0., 0.],\n",
              "       [0., 0., 0., 0., 1., 0., 0., 0., 0., 0., 0.],\n",
              "       [0., 1., 0., 0., 0., 0., 0., 0., 0., 0., 0.],\n",
              "       [0., 0., 0., 1., 0., 0., 0., 0., 0., 0., 0.],\n",
              "       [0., 0., 0., 0., 0., 0., 0., 0., 1., 0., 0.],\n",
              "       [1., 0., 0., 0., 0., 0., 0., 0., 0., 0., 0.],\n",
              "       [0., 1., 0., 0., 0., 0., 0., 0., 0., 0., 0.],\n",
              "       [0., 0., 0., 0., 0., 0., 0., 0., 0., 0., 1.],\n",
              "       [0., 0., 0., 0., 1., 0., 0., 0., 0., 0., 0.],\n",
              "       [1., 0., 0., 0., 0., 0., 0., 0., 0., 0., 0.],\n",
              "       [0., 0., 0., 0., 0., 0., 1., 0., 0., 0., 0.],\n",
              "       [0., 0., 0., 0., 0., 0., 0., 0., 0., 0., 1.],\n",
              "       [0., 0., 0., 0., 0., 0., 0., 0., 1., 0., 0.],\n",
              "       [0., 0., 0., 0., 0., 0., 0., 0., 1., 0., 0.],\n",
              "       [0., 1., 0., 0., 0., 0., 0., 0., 0., 0., 0.],\n",
              "       [0., 0., 0., 0., 1., 0., 0., 0., 0., 0., 0.],\n",
              "       [0., 0., 0., 0., 0., 0., 0., 0., 0., 0., 1.],\n",
              "       [0., 0., 0., 0., 1., 0., 0., 0., 0., 0., 0.],\n",
              "       [0., 0., 0., 0., 1., 0., 0., 0., 0., 0., 0.]], dtype=float32)"
            ]
          },
          "metadata": {},
          "execution_count": 28
        }
      ],
      "source": [
        "preds1 = np.zeros_like(preds)\n",
        "preds1[np.arange(len(preds)), preds.argmax(1)] = 1\n",
        "# preds1 = (preds == np.max(preds))\n",
        "preds = preds1\n",
        "preds[:20]\n"
      ]
    },
    {
      "cell_type": "code",
      "execution_count": null,
      "metadata": {
        "colab": {
          "base_uri": "https://localhost:8080/"
        },
        "id": "CYj2lCWAlgnz",
        "outputId": "ff9261ea-c5fc-4157-c0b5-3530babd0778"
      },
      "outputs": [
        {
          "output_type": "execute_result",
          "data": {
            "text/plain": [
              "array([[0., 0., 0., 0., 0., 0., 0., 0., 1., 0., 0.],\n",
              "       [0., 0., 0., 0., 0., 0., 0., 1., 0., 0., 0.],\n",
              "       [0., 0., 0., 0., 1., 0., 0., 0., 0., 0., 0.],\n",
              "       [0., 1., 0., 0., 0., 0., 0., 0., 0., 0., 0.],\n",
              "       [1., 0., 0., 0., 0., 0., 0., 0., 0., 0., 0.],\n",
              "       [0., 0., 0., 0., 0., 0., 0., 0., 1., 0., 0.],\n",
              "       [1., 0., 0., 0., 0., 0., 0., 0., 0., 0., 0.],\n",
              "       [0., 1., 0., 0., 0., 0., 0., 0., 0., 0., 0.],\n",
              "       [0., 0., 0., 0., 0., 0., 0., 0., 0., 0., 1.],\n",
              "       [0., 0., 0., 0., 1., 0., 0., 0., 0., 0., 0.],\n",
              "       [1., 0., 0., 0., 0., 0., 0., 0., 0., 0., 0.],\n",
              "       [0., 0., 0., 1., 0., 0., 0., 0., 0., 0., 0.],\n",
              "       [0., 0., 0., 0., 0., 0., 0., 0., 0., 0., 1.],\n",
              "       [0., 1., 0., 0., 0., 0., 0., 0., 0., 0., 0.],\n",
              "       [0., 0., 0., 0., 0., 0., 0., 0., 1., 0., 0.],\n",
              "       [0., 1., 0., 0., 0., 0., 0., 0., 0., 0., 0.],\n",
              "       [0., 0., 0., 1., 0., 0., 0., 0., 0., 0., 0.],\n",
              "       [0., 0., 0., 0., 0., 0., 0., 0., 1., 0., 0.],\n",
              "       [0., 0., 0., 0., 1., 0., 0., 0., 0., 0., 0.],\n",
              "       [0., 0., 0., 0., 1., 0., 0., 0., 0., 0., 0.]])"
            ]
          },
          "metadata": {},
          "execution_count": 29
        }
      ],
      "source": [
        "y_test[:20]"
      ]
    },
    {
      "cell_type": "code",
      "execution_count": null,
      "metadata": {
        "colab": {
          "base_uri": "https://localhost:8080/"
        },
        "id": "wrs6Xq0Fl0lq",
        "outputId": "c2d93770-1c17-4bfa-e41c-96e426683f4b"
      },
      "outputs": [
        {
          "output_type": "stream",
          "name": "stdout",
          "text": [
            "\n",
            " 1881 0.6715458764726884\n"
          ]
        }
      ],
      "source": [
        "correct = 0\n",
        "for i in range(len(y_test)):\n",
        "    flag = True\n",
        "    for j in range(len(y_test[0])):\n",
        "        # print(preds[i][j], y_test[i][j])\n",
        "        if preds[i][j] != y_test[i][j]:\n",
        "            flag = False\n",
        "    if flag:\n",
        "        correct += 1\n",
        "print('\\n', correct, correct/len(y_test))\n"
      ]
    },
    {
      "cell_type": "code",
      "execution_count": null,
      "metadata": {
        "id": "Wu0wLBaWgY6F"
      },
      "outputs": [],
      "source": [
        "# keras.mean(keras.equal(keras.argmax(y_test, axis=-1), keras.argmax(preds, axis=-1)))"
      ]
    },
    {
      "cell_type": "code",
      "execution_count": null,
      "metadata": {
        "id": "pNVH3vB1llNZ"
      },
      "outputs": [],
      "source": [
        "# y_true = y_test\n",
        "# y_pred = preds\n",
        "\n",
        "# labels = [\"0\", \"1\", \"2\", \"3\", \"4\", \"5\", \"6\", \"7\", \"8\", \"9\", \"10\"]\n",
        "\n",
        "# conf_mat_dict={}\n",
        "\n",
        "# for label_col in range(len(labels)):\n",
        "#     y_true_label = y_true[:, label_col]\n",
        "#     y_pred_label = y_pred[:, label_col]\n",
        "#     conf_mat_dict[labels[label_col]] = confusion_matrix(y_pred=y_pred_label, y_true=y_true_label)\n",
        "\n",
        "\n",
        "# for label, matrix in conf_mat_dict.items():\n",
        "#     print(\"Confusion matrix for label {}:\".format(label))\n",
        "#     print(matrix)"
      ]
    },
    {
      "cell_type": "code",
      "source": [
        "# one hot to digit\n",
        "Ytrue = [np.argmax(t) for t in y_test ]\n",
        "Ypred = [np.argmax(t) for t in preds ]\n",
        "print(Ypred,'\\n', Ytrue)"
      ],
      "metadata": {
        "id": "B-D9Xy6xtpX7"
      },
      "execution_count": null,
      "outputs": []
    },
    {
      "cell_type": "code",
      "source": [
        "from sklearn import metrics\n",
        "from sklearn.metrics import confusion_matrix\n",
        "\n",
        "cf = confusion_matrix(Ytrue, Ypred)\n",
        "cf"
      ],
      "metadata": {
        "colab": {
          "base_uri": "https://localhost:8080/"
        },
        "id": "HqHnBn9uv-gG",
        "outputId": "0a05ee44-3e9c-4073-b5a0-35f9f1a3caa0"
      },
      "execution_count": null,
      "outputs": [
        {
          "output_type": "execute_result",
          "data": {
            "text/plain": [
              "array([[172,  15,   0,  32,  10,   2,   6,   3,  15,   1,   1],\n",
              "       [  5, 291,   2,   7,   3,   0,   2,  21, 156,   1,   8],\n",
              "       [  0,   8,   6,   0,   0,   0,   0,   2,  15,   0,   0],\n",
              "       [ 18,   7,   0, 100,  15,   5,   9,   2,   8,   0,   0],\n",
              "       [  9,  15,   0,  10, 324,   3,   2,   2,   4,   0,   0],\n",
              "       [  7,  12,   0,   8,   1,  18,   2,   1,  10,   1,   0],\n",
              "       [ 12,   5,   0,  21,   6,   2,  22,   1,   7,   0,   1],\n",
              "       [  8,  29,   1,   9,   8,   0,   5, 229,  17,   0,  16],\n",
              "       [  5, 192,   0,   8,   7,   0,   5,  22, 588,   0,   6],\n",
              "       [  2,  10,   0,   1,   0,   0,   0,   3,   4,  10,   0],\n",
              "       [  1,  15,   0,   3,   0,   0,   1,  16,   4,   1, 121]])"
            ]
          },
          "metadata": {},
          "execution_count": 37
        }
      ]
    },
    {
      "cell_type": "code",
      "source": [
        "from sklearn.metrics import classification_report\n",
        "\n",
        "print(\"Accuracy: \", metrics.accuracy_score(y_test, y_pred))\n",
        "print(classification_report(Ytrue, Ypred))"
      ],
      "metadata": {
        "colab": {
          "base_uri": "https://localhost:8080/"
        },
        "id": "s3OMhigG13DS",
        "outputId": "0c4f96a7-6ae4-46dd-bba6-c2512a4e398e"
      },
      "execution_count": null,
      "outputs": [
        {
          "output_type": "stream",
          "name": "stdout",
          "text": [
            "Accuracy:  0.6715458764726884\n",
            "              precision    recall  f1-score   support\n",
            "\n",
            "           0       0.72      0.67      0.69       257\n",
            "           1       0.49      0.59      0.53       496\n",
            "           2       0.67      0.19      0.30        31\n",
            "           3       0.50      0.61      0.55       164\n",
            "           4       0.87      0.88      0.87       369\n",
            "           5       0.60      0.30      0.40        60\n",
            "           6       0.41      0.29      0.34        77\n",
            "           7       0.76      0.71      0.73       322\n",
            "           8       0.71      0.71      0.71       833\n",
            "           9       0.71      0.33      0.45        30\n",
            "          10       0.79      0.75      0.77       162\n",
            "\n",
            "    accuracy                           0.67      2801\n",
            "   macro avg       0.66      0.55      0.58      2801\n",
            "weighted avg       0.68      0.67      0.67      2801\n",
            "\n"
          ]
        }
      ]
    },
    {
      "cell_type": "code",
      "source": [
        "import seaborn as sns\n",
        "import matplotlib as plt\n",
        "from matplotlib.pyplot import figure\n",
        "\n",
        "figure(figsize=(12, 8), dpi=80)\n",
        "ax = sns.heatmap(cf, annot=True,cmap=plt.cm.Blues, fmt=\".0f\")\n",
        "\n",
        "ax.set_xlabel('\\nPredicted Values')\n",
        "ax.set_ylabel('Actual Values ');\n",
        "\n",
        "labels = [\"0\", \"1\", \"2\", \"3\", \"4\", \"5\", \"6\", \"7\", \"8\", \"9\", \"10\"]\n",
        "class_labels = ['Cell.membrane','Cytoplasm','Cytoplasm-Nucleus',\n",
        "                'Endoplasmic.reticulum','Extracellular','Golgi.apparatus',\n",
        "                'Lysosome/Vacuole','Mitochondrion','Nucleus','Peroxisome','Plastid']\n",
        "ax.xaxis.set_ticklabels(class_labels, rotation=45)\n",
        "ax.yaxis.set_ticklabels(class_labels, rotation=45)\n",
        "\n"
      ],
      "metadata": {
        "colab": {
          "base_uri": "https://localhost:8080/",
          "height": 855
        },
        "id": "8Tm1y1oVxop2",
        "outputId": "14fe376a-97c6-4ba0-d8af-6274eda2a419"
      },
      "execution_count": null,
      "outputs": [
        {
          "output_type": "execute_result",
          "data": {
            "text/plain": [
              "[Text(0, 0.5, 'Cell.membrane'),\n",
              " Text(0, 1.5, 'Cytoplasm'),\n",
              " Text(0, 2.5, 'Cytoplasm-Nucleus'),\n",
              " Text(0, 3.5, 'Endoplasmic.reticulum'),\n",
              " Text(0, 4.5, 'Extracellular'),\n",
              " Text(0, 5.5, 'Golgi.apparatus'),\n",
              " Text(0, 6.5, 'Lysosome/Vacuole'),\n",
              " Text(0, 7.5, 'Mitochondrion'),\n",
              " Text(0, 8.5, 'Nucleus'),\n",
              " Text(0, 9.5, 'Peroxisome'),\n",
              " Text(0, 10.5, 'Plastid')]"
            ]
          },
          "metadata": {},
          "execution_count": 39
        },
        {
          "output_type": "display_data",
          "data": {
            "text/plain": [
              "<Figure size 960x640 with 2 Axes>"
            ],
            "image/png": "[encoded data removed]"
          },
          "metadata": {
            "needs_background": "light"
          }
        }
      ]
    }
  ],
  "metadata": {
    "accelerator": "GPU",
    "colab": {
      "collapsed_sections": [],
      "name": "CS286_final_SP22_LSTM(Team 2)_30epochs_noVal_67%.ipynb",
      "provenance": []
    },
    "kernelspec": {
      "display_name": "Python 3",
      "name": "python3"
    },
    "language_info": {
      "name": "python"
    }
  },
  "nbformat": 4,
  "nbformat_minor": 0
}